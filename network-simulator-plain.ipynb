{
 "cells": [
  {
   "cell_type": "markdown",
   "metadata": {},
   "source": []
  },
  {
   "cell_type": "markdown",
   "metadata": {},
   "source": [
    "## Netowk program"
   ]
  },
  {
   "cell_type": "code",
   "execution_count": 1,
   "metadata": {},
   "outputs": [],
   "source": [
    "import numpy as np\n",
    "import random\n",
    "import matplotlib.pyplot as plt"
   ]
  },
  {
   "cell_type": "code",
   "execution_count": null,
   "metadata": {},
   "outputs": [],
   "source": []
  },
  {
   "cell_type": "code",
   "execution_count": 2,
   "metadata": {},
   "outputs": [],
   "source": [
    "m0 = 5 # seed\n",
    "m = 1  # number of link each node must have\n",
    "N = 10 # network size"
   ]
  },
  {
   "cell_type": "code",
   "execution_count": 3,
   "metadata": {},
   "outputs": [],
   "source": [
    "# list of all the nodes\n",
    "node_list = np.arange(0, m0, 1)"
   ]
  },
  {
   "cell_type": "code",
   "execution_count": 4,
   "metadata": {},
   "outputs": [
    {
     "data": {
      "text/plain": [
       "array([0, 1, 2, 3, 4])"
      ]
     },
     "execution_count": 4,
     "metadata": {},
     "output_type": "execute_result"
    }
   ],
   "source": [
    "node_list"
   ]
  },
  {
   "cell_type": "code",
   "execution_count": null,
   "metadata": {},
   "outputs": [],
   "source": []
  },
  {
   "cell_type": "code",
   "execution_count": 5,
   "metadata": {},
   "outputs": [],
   "source": [
    "def print_connections(network_map_A, network_map_B):\n",
    "    if len(network_map_A) != len(network_map_B):\n",
    "        print(\"different sizes\")\n",
    "        pass\n",
    "    for i in range(len(network_map_A)):\n",
    "        if network_map_A[i] == network_map_B[i]:\n",
    "            print(\"self connection\")\n",
    "        print(network_map_A[i], \" : \", network_map_B[i])\n",
    "        pass\n",
    "    "
   ]
  },
  {
   "cell_type": "code",
   "execution_count": 6,
   "metadata": {},
   "outputs": [],
   "source": [
    "degree_count = [0] * N # how many connection each node have"
   ]
  },
  {
   "cell_type": "code",
   "execution_count": 7,
   "metadata": {},
   "outputs": [],
   "source": [
    "number_of_links = 0\n",
    "for i in range(m0):\n",
    "    number_of_links += i\n",
    "\n",
    "number_of_links += (N-m0)*m;"
   ]
  },
  {
   "cell_type": "code",
   "execution_count": 8,
   "metadata": {},
   "outputs": [],
   "source": [
    "# the i-th element of network_map_A is connected with the i-th element of network_map_B\n",
    "network_map_A = [0] * number_of_links\n",
    "network_map_B = [0] * number_of_links"
   ]
  },
  {
   "cell_type": "code",
   "execution_count": null,
   "metadata": {},
   "outputs": [],
   "source": []
  },
  {
   "cell_type": "code",
   "execution_count": 9,
   "metadata": {},
   "outputs": [],
   "source": [
    "preferentially = [] # very useful in preferential attachment or BA network"
   ]
  },
  {
   "cell_type": "markdown",
   "metadata": {},
   "source": [
    "### seeding the network"
   ]
  },
  {
   "cell_type": "code",
   "execution_count": 10,
   "metadata": {},
   "outputs": [
    {
     "name": "stdout",
     "output_type": "stream",
     "text": [
      "10\n"
     ]
    }
   ],
   "source": [
    "c = 0\n",
    "for i in range(m0):\n",
    "    for j in range(m0):\n",
    "        if j>i:\n",
    "            network_map_A[c] = i\n",
    "            network_map_B[c] = j\n",
    "            preferentially.append(i)\n",
    "            preferentially.append(j)\n",
    "            degree_count[i] += 1\n",
    "            degree_count[j] += 1\n",
    "            c += 1\n",
    "            pass\n",
    "        pass\n",
    "    pass\n",
    "print(c)"
   ]
  },
  {
   "cell_type": "code",
   "execution_count": 11,
   "metadata": {},
   "outputs": [
    {
     "name": "stdout",
     "output_type": "stream",
     "text": [
      "0  :  1\n",
      "0  :  2\n",
      "0  :  3\n",
      "0  :  4\n",
      "1  :  2\n",
      "1  :  3\n",
      "1  :  4\n",
      "2  :  3\n",
      "2  :  4\n",
      "3  :  4\n",
      "self connection\n",
      "0  :  0\n",
      "self connection\n",
      "0  :  0\n",
      "self connection\n",
      "0  :  0\n",
      "self connection\n",
      "0  :  0\n",
      "self connection\n",
      "0  :  0\n"
     ]
    }
   ],
   "source": [
    "print_connections(network_map_A, network_map_B)"
   ]
  },
  {
   "cell_type": "markdown",
   "metadata": {},
   "source": [
    "### constructing remaining network"
   ]
  },
  {
   "cell_type": "code",
   "execution_count": 12,
   "metadata": {},
   "outputs": [],
   "source": [
    "# version 1 : chances of repetition when m is large\n",
    "to_be_added_to_preferentially = []\n",
    "for i in range(m0, N):\n",
    "    for k in range(m): # each node comes with two new link\n",
    "        rnd = random.randint(0, len(preferentially)-1)\n",
    "        j = preferentially[rnd]\n",
    "        network_map_A[c] = i\n",
    "        network_map_B[c] = j\n",
    "        \n",
    "        # to prevent self connection, don't just add directly to preferentially.\n",
    "        # store it in a temporary location first\n",
    "        to_be_added_to_preferentially.append(i)\n",
    "        to_be_added_to_preferentially.append(j)\n",
    "        degree_count[i] += 1\n",
    "        degree_count[j] += 1\n",
    "        c += 1\n",
    "        pass\n",
    "    preferentially.extend(to_be_added_to_preferentially)\n",
    "    to_be_added_to_preferentially = []\n",
    "    pass\n"
   ]
  },
  {
   "cell_type": "code",
   "execution_count": 16,
   "metadata": {},
   "outputs": [],
   "source": [
    "## version 2 : no chance of repetition\n",
    "\n",
    "for i in range(m0, N):\n",
    "    \n",
    "    # first select m_nodes preferentially with no repetition \n",
    "    # to prevent self connection\n",
    "    m_nodes = set()\n",
    "    while len(m_nodes) < m: # since each new node comes with m new links\n",
    "        rnd = random.randint(0, len(preferentially)-1)\n",
    "        j = preferentially[rnd]\n",
    "        m_nodes.add(j)\n",
    "        pass\n",
    "    # then connect the new node to the selected m_nodes\n",
    "    for j in m_nodes:\n",
    "        network_map_A[c] = i\n",
    "        network_map_B[c] = j\n",
    "        preferentially.append(i)\n",
    "        preferentially.append(j)\n",
    "        degree_count[i] += 1\n",
    "        degree_count[j] += 1\n",
    "        c += 1\n",
    "        pass\n",
    "    pass\n"
   ]
  },
  {
   "cell_type": "code",
   "execution_count": 17,
   "metadata": {},
   "outputs": [
    {
     "name": "stdout",
     "output_type": "stream",
     "text": [
      "0  :  1\n",
      "0  :  2\n",
      "0  :  3\n",
      "0  :  4\n",
      "1  :  2\n",
      "1  :  3\n",
      "1  :  4\n",
      "2  :  3\n",
      "2  :  4\n",
      "3  :  4\n",
      "5  :  0\n",
      "6  :  5\n",
      "7  :  0\n",
      "8  :  4\n",
      "9  :  2\n"
     ]
    }
   ],
   "source": [
    "print_connections(network_map_A, network_map_B)"
   ]
  },
  {
   "cell_type": "markdown",
   "metadata": {},
   "source": [
    "#### degree distribution"
   ]
  },
  {
   "cell_type": "code",
   "execution_count": 14,
   "metadata": {},
   "outputs": [],
   "source": [
    "# degree_count"
   ]
  },
  {
   "cell_type": "code",
   "execution_count": 15,
   "metadata": {},
   "outputs": [],
   "source": [
    "uniques = np.unique(degree_count, return_counts=True)\n",
    "a = uniques[0]\n",
    "b = uniques[1]"
   ]
  },
  {
   "cell_type": "code",
   "execution_count": 16,
   "metadata": {},
   "outputs": [
    {
     "data": {
      "text/plain": [
       "[<matplotlib.lines.Line2D at 0x7f2c63296ac8>]"
      ]
     },
     "execution_count": 16,
     "metadata": {},
     "output_type": "execute_result"
    },
    {
     "data": {
      "image/png": "[encoded data removed]",
      "text/plain": [
       "<Figure size 432x288 with 1 Axes>"
      ]
     },
     "metadata": {
      "needs_background": "light"
     },
     "output_type": "display_data"
    }
   ],
   "source": [
    "# plt.plot(a, b)\n",
    "plt.plot(np.log(a), np.log(b))"
   ]
  },
  {
   "cell_type": "markdown",
   "metadata": {},
   "source": [
    "# Percolation part"
   ]
  },
  {
   "cell_type": "code",
   "execution_count": 76,
   "metadata": {},
   "outputs": [],
   "source": [
    "# we randomize this list and select values sequantially\n",
    "list_of_link_indices = [i for i in range(number_of_links)]\n",
    "random.shuffle(list_of_link_indices) # suffle the value of the list"
   ]
  },
  {
   "cell_type": "code",
   "execution_count": 18,
   "metadata": {},
   "outputs": [],
   "source": [
    "# list_of_link_indices"
   ]
  },
  {
   "cell_type": "markdown",
   "metadata": {},
   "source": [
    "### Root Finding Method"
   ]
  },
  {
   "cell_type": "code",
   "execution_count": null,
   "metadata": {},
   "outputs": [],
   "source": []
  },
  {
   "cell_type": "code",
   "execution_count": 99,
   "metadata": {},
   "outputs": [],
   "source": [
    "def findRoot(clusters, a):\n",
    "    \"\"\"\n",
    "    finds root node starting from a\n",
    "        clusters : cluster sizes and roots are here\n",
    "        a        : the point where finding starts.\n",
    "    \"\"\"\n",
    "#     print(\"inside findRoot\")\n",
    "    if clusters[a] < 0:\n",
    "        return a\n",
    "#     print(\"starting loop, a = \", a)\n",
    "#     print(clusters)\n",
    "    while not (clusters[a] < 0):\n",
    "        b = clusters[a]\n",
    "#         print(a, \", \", b)\n",
    "#         print(clusters)\n",
    "        a = b\n",
    "        pass\n",
    "#     print(\"loop finished\")\n",
    "#     print(clusters)\n",
    "    return a\n",
    "    "
   ]
  },
  {
   "cell_type": "code",
   "execution_count": 100,
   "metadata": {},
   "outputs": [],
   "source": [
    "def findRoot_v2(clusters, a):\n",
    "    \"\"\"\n",
    "    finds root node starting from a. Also replaces some values so that search from node a is faster next time\n",
    "        clusters : cluster sizes and roots are here\n",
    "        a        : the point where finding starts.\n",
    "    \"\"\"\n",
    "    if clusters[a] < 0:\n",
    "        return a\n",
    "#     print(\"starting loop, a = \", a)\n",
    "#     print(clusters)\n",
    "    redirecting_indices = []\n",
    "    while not (clusters[a] < 0):\n",
    "        redirecting_indices.append(a)\n",
    "        b = clusters[a]\n",
    "#         print(a, \", \", b)\n",
    "#         print(clusters)\n",
    "        a = b\n",
    "        pass\n",
    "    # so that next time search is at least one step lesser\n",
    "    for ri in redirecting_indices:\n",
    "        clusters[ri] = a\n",
    "#     print(\"loop finished\")\n",
    "#     print(clusters)\n",
    "    return a"
   ]
  },
  {
   "cell_type": "code",
   "execution_count": 101,
   "metadata": {},
   "outputs": [],
   "source": [
    "arr = [-1, 0, 1, 2, 0, 2]"
   ]
  },
  {
   "cell_type": "code",
   "execution_count": 102,
   "metadata": {},
   "outputs": [
    {
     "data": {
      "text/plain": [
       "0"
      ]
     },
     "execution_count": 102,
     "metadata": {},
     "output_type": "execute_result"
    }
   ],
   "source": [
    "findRoot(arr, 5)"
   ]
  },
  {
   "cell_type": "code",
   "execution_count": 103,
   "metadata": {},
   "outputs": [
    {
     "data": {
      "text/plain": [
       "[-1, 0, 1, 2, 0, 2]"
      ]
     },
     "execution_count": 103,
     "metadata": {},
     "output_type": "execute_result"
    }
   ],
   "source": [
    "# arr is unchanged\n",
    "arr"
   ]
  },
  {
   "cell_type": "code",
   "execution_count": 104,
   "metadata": {},
   "outputs": [
    {
     "data": {
      "text/plain": [
       "0"
      ]
     },
     "execution_count": 104,
     "metadata": {},
     "output_type": "execute_result"
    }
   ],
   "source": [
    "findRoot_v2(arr, 5)"
   ]
  },
  {
   "cell_type": "code",
   "execution_count": 105,
   "metadata": {},
   "outputs": [
    {
     "data": {
      "text/plain": [
       "[-1, 0, 0, 2, 0, 0]"
      ]
     },
     "execution_count": 105,
     "metadata": {},
     "output_type": "execute_result"
    }
   ],
   "source": [
    "# arr is updated to that next time search is faster\n",
    "arr"
   ]
  },
  {
   "cell_type": "markdown",
   "metadata": {},
   "source": [
    " if the value and indeces of an array is same then that is an error. And root can never be found.\n",
    " \n",
    " for example, $i$-th index of an array is $i$"
   ]
  },
  {
   "cell_type": "code",
   "execution_count": null,
   "metadata": {},
   "outputs": [],
   "source": []
  },
  {
   "cell_type": "markdown",
   "metadata": {},
   "source": [
    "### Cluster Merging"
   ]
  },
  {
   "cell_type": "code",
   "execution_count": 134,
   "metadata": {},
   "outputs": [],
   "source": [
    "def mergeClusters(clusters, root_a, root_b):\n",
    "#     print(\"both are roots, \", root_a, \", \", root_b)\n",
    "    if root_a == root_b:\n",
    "        return\n",
    "    # join two roots\n",
    "#     print(\"before merging \")\n",
    "#     print(clusters)\n",
    "    clusters[root_a] = clusters[root_a] + clusters[root_b] # sizes must add up\n",
    "    clusters[root_b] = root_a # now clusters[b] points to a\n",
    "#     print(\"after merging \")\n",
    "#     print(clusters)"
   ]
  },
  {
   "cell_type": "code",
   "execution_count": 135,
   "metadata": {},
   "outputs": [],
   "source": [
    "def clusterCount(clusters):\n",
    "    \"\"\"\n",
    "    number of negative values in clusters is the number of cluster\n",
    "    \"\"\"\n",
    "    sm = 0\n",
    "    for i in clusters:\n",
    "        if i < 0:\n",
    "            sm += 1\n",
    "            pass\n",
    "        pass\n",
    "    return sm"
   ]
  },
  {
   "cell_type": "code",
   "execution_count": 136,
   "metadata": {},
   "outputs": [],
   "source": [
    "def clusterSizeSum(clusters):\n",
    "    sm = 0\n",
    "    for i in clusters:\n",
    "        if i < 0:\n",
    "            sm += i\n",
    "            pass\n",
    "        pass\n",
    "    return sm * -1"
   ]
  },
  {
   "cell_type": "code",
   "execution_count": 137,
   "metadata": {},
   "outputs": [],
   "source": [
    "def clusterSize(clusters, a):\n",
    "    root = findRoot(clusters, a)\n",
    "    return clusters[root] * -1"
   ]
  },
  {
   "cell_type": "code",
   "execution_count": 138,
   "metadata": {},
   "outputs": [],
   "source": [
    "# clusters hold the information about the clusters in the network\n",
    "# initially all the nodes are cluster of size 1\n",
    "# positive value of the clusters[k] is the index of the root node\n",
    "# negative value of the clusters[k] is the cluster size\n",
    "clusters = [-1 for i in range(N)]\n"
   ]
  },
  {
   "cell_type": "code",
   "execution_count": 139,
   "metadata": {},
   "outputs": [],
   "source": [
    "\n",
    "for i in list_of_link_indices:\n",
    "    # selecting sequentially from suffled list_of_link_indices is like selecting randomly\n",
    "#     print(i)\n",
    "#     print(\"number of remaining clusters\", clusterCount(clusters))\n",
    "    a = network_map_A[i]\n",
    "    b = network_map_B[i]\n",
    "#     print(a, \" and \", b)\n",
    "#     print(clusters)\n",
    "    # node a and b will be connected together\n",
    "    root_a = findRoot(clusters, a)\n",
    "    root_b = findRoot(clusters, b)\n",
    "    mergeClusters(clusters, root_a, root_b)\n",
    "    # make both cluster point to root cluster. so that search can be faster later\n",
    "#     print(clusters)"
   ]
  },
  {
   "cell_type": "code",
   "execution_count": 140,
   "metadata": {},
   "outputs": [
    {
     "data": {
      "text/plain": [
       "[1, 8, 8, 9, 3, 0, 7, -10, 7, 5]"
      ]
     },
     "execution_count": 140,
     "metadata": {},
     "output_type": "execute_result"
    }
   ],
   "source": [
    "clusters"
   ]
  },
  {
   "cell_type": "code",
   "execution_count": 141,
   "metadata": {},
   "outputs": [
    {
     "data": {
      "text/plain": [
       "1"
      ]
     },
     "execution_count": 141,
     "metadata": {},
     "output_type": "execute_result"
    }
   ],
   "source": [
    "clusterCount(clusters)"
   ]
  },
  {
   "cell_type": "code",
   "execution_count": 142,
   "metadata": {},
   "outputs": [
    {
     "data": {
      "text/plain": [
       "10"
      ]
     },
     "execution_count": 142,
     "metadata": {},
     "output_type": "execute_result"
    }
   ],
   "source": [
    "clusterSizeSum(clusters)"
   ]
  },
  {
   "cell_type": "code",
   "execution_count": 125,
   "metadata": {},
   "outputs": [
    {
     "name": "stdout",
     "output_type": "stream",
     "text": [
      "10\n",
      "10\n",
      "10\n",
      "10\n",
      "10\n",
      "10\n",
      "10\n",
      "10\n",
      "10\n",
      "10\n"
     ]
    }
   ],
   "source": [
    "for i in clusters:\n",
    "    print(clusterSize(clusters, i))"
   ]
  },
  {
   "cell_type": "code",
   "execution_count": null,
   "metadata": {},
   "outputs": [],
   "source": []
  }
 ],
 "metadata": {
  "kernelspec": {
   "display_name": "Python 3",
   "language": "python",
   "name": "python3"
  },
  "language_info": {
   "codemirror_mode": {
    "name": "ipython",
    "version": 3
   },
   "file_extension": ".py",
   "mimetype": "text/x-python",
   "name": "python",
   "nbconvert_exporter": "python",
   "pygments_lexer": "ipython3",
   "version": "3.7.2"
  }
 },
 "nbformat": 4,
 "nbformat_minor": 2
}
