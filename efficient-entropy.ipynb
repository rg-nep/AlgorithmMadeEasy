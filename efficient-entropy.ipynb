{
 "cells": [
  {
   "cell_type": "markdown",
   "metadata": {},
   "source": [
    "# How to measure entropy efficiently"
   ]
  },
  {
   "cell_type": "markdown",
   "metadata": {},
   "source": [
    "The Shanon entropy or information entropy is defined as\n",
    "\n",
    "\n",
    "$H= -\\sum_i \\mu_i \\log \\mu_i$\n",
    "\n",
    "$\\mu_i$ is the relative size of the $i$-th string, such that $\\sum_i \\mu_i = 1$"
   ]
  },
  {
   "cell_type": "code",
   "execution_count": 1,
   "metadata": {},
   "outputs": [],
   "source": [
    "import random\n",
    "import math\n",
    "import numpy as np\n",
    "import matplotlib.pyplot as plt"
   ]
  },
  {
   "cell_type": "code",
   "execution_count": 2,
   "metadata": {},
   "outputs": [],
   "source": [
    "def get_entropy(sizes):\n",
    "    \"\"\"\n",
    "        sizes : list size of differnt strings\n",
    "    \"\"\"\n",
    "    N = sum(sizes)\n",
    "    H = 0\n",
    "    for a in sizes:\n",
    "        mu = a/N\n",
    "        if mu == 0:\n",
    "            continue\n",
    "        H += - mu * math.log(mu)\n",
    "        pass\n",
    "    return H"
   ]
  },
  {
   "cell_type": "code",
   "execution_count": 3,
   "metadata": {},
   "outputs": [],
   "source": [
    "sizes = [random.randint(1, 100) for i in range(100)]"
   ]
  },
  {
   "cell_type": "code",
   "execution_count": 4,
   "metadata": {
    "scrolled": true
   },
   "outputs": [],
   "source": [
    "# mu_is"
   ]
  },
  {
   "cell_type": "code",
   "execution_count": 5,
   "metadata": {},
   "outputs": [],
   "source": [
    "# def get_entropy(sizes):\n",
    "#     \"\"\"\n",
    "#         sizes : list size of differnt strings\n",
    "#     \"\"\"\n",
    "#     N = sum(sizes)\n",
    "#     mu_is = [sizes[i]/N for i in range(len(sizes))]\n",
    "#     H = 0\n",
    "#     for mu in mu_is:\n",
    "#         if mu == 0:\n",
    "#             continue\n",
    "#         H += - mu * math.log(mu)\n",
    "#         pass\n",
    "#     return H"
   ]
  },
  {
   "cell_type": "code",
   "execution_count": 6,
   "metadata": {},
   "outputs": [
    {
     "data": {
      "text/plain": [
       "4.437744192739395"
      ]
     },
     "execution_count": 6,
     "metadata": {},
     "output_type": "execute_result"
    }
   ],
   "source": [
    "get_entropy(sizes)"
   ]
  },
  {
   "cell_type": "markdown",
   "metadata": {},
   "source": [
    "But when the size of the data is huge and you need to find entropy frequently (for every changes made in the configuration of the system) this process is not very efficient"
   ]
  },
  {
   "cell_type": "code",
   "execution_count": 7,
   "metadata": {
    "scrolled": true
   },
   "outputs": [],
   "source": [
    "sizes = [random.randint(1, 100) for i in range(100)]"
   ]
  },
  {
   "cell_type": "markdown",
   "metadata": {},
   "source": [
    "Algorithm for run_system_for_entropy_v1\n",
    "\n",
    "1. initial maximum entropy\n",
    "\n",
    "2. randomly select two node or array element\n",
    "\n",
    "3. join them. here only by adding\n",
    "\n",
    "4. set one of them to zero so that value never gets repeated \n",
    "\n",
    "5. find entropy of the system by going through all nodes\n",
    "\n",
    "This way the original 'sizes' array get replaced by new value in one element and zero in another element among the two. In the end, only one element of 'sizes' is nonzero. That non zero element is the number that we had at the begining by summing values of 'sizes' array ."
   ]
  },
  {
   "cell_type": "code",
   "execution_count": 22,
   "metadata": {
    "scrolled": true
   },
   "outputs": [],
   "source": [
    "def run_system_for_entropy_v1(sizes):\n",
    "    sz = len(sizes)\n",
    "    entropies = []\n",
    "    H = get_entropy(sizes) # initial maximum entropy\n",
    "    while H > 0:\n",
    "        # randomly select two node or array element\n",
    "        i = random.randint(0, len(sizes)-1)\n",
    "        j = random.randint(0, len(sizes)-1)\n",
    "        if i == j:\n",
    "            continue\n",
    "        if i != j and (sizes[i] != 0 or sizes[j] != 0):\n",
    "            sz -= 1\n",
    "            pass\n",
    "        # join them. here only by adding\n",
    "        sizes[i] = sizes[i] + sizes[j]\n",
    "        sizes[j] = 0 # set one of them to zero so that value never gets repeated \n",
    "        H = get_entropy(sizes) # find entropy of the system by going through all nodes\n",
    "        if len(entropies) == 0:\n",
    "            entropies.append(H)\n",
    "        elif H < entropies[-1]:\n",
    "            # record value only if entropy is decreasing\n",
    "            entropies.append(H)\n",
    "#         print(H)\n",
    "        pass\n",
    "    return entropies"
   ]
  },
  {
   "cell_type": "code",
   "execution_count": 23,
   "metadata": {},
   "outputs": [
    {
     "name": "stdout",
     "output_type": "stream",
     "text": [
      "5052\n",
      "5052\n"
     ]
    },
    {
     "data": {
      "text/plain": [
       "[<matplotlib.lines.Line2D at 0x7fa71ddd7198>]"
      ]
     },
     "execution_count": 23,
     "metadata": {},
     "output_type": "execute_result"
    },
    {
     "data": {
      "image/png": "[encoded data removed]",
      "text/plain": [
       "<Figure size 432x288 with 1 Axes>"
      ]
     },
     "metadata": {
      "needs_background": "light"
     },
     "output_type": "display_data"
    }
   ],
   "source": [
    "sizes = [random.randint(1, 100) for i in range(100)]\n",
    "print(np.sum(sizes))\n",
    "out = run_system_for_entropy_v1(sizes)\n",
    "# print(out)\n",
    "print(np.sum(sizes))\n",
    "# print(sizes)\n",
    "plt.plot(np.arange(len(out)), out)"
   ]
  },
  {
   "cell_type": "markdown",
   "metadata": {},
   "source": [
    "Algorithm for run_system_for_entropy_v2\n",
    "\n",
    "Using auxiliary 'indices' array so that values of 'sizes' array does not get replaced.\n",
    "\n",
    "1. initial maximum entropy\n",
    "\n",
    "2. randomly select two node or array element\n",
    "\n",
    "3. join them. here only by adding\n",
    "\n",
    "4. set one of them to zero so that value never gets repeated \n",
    "\n",
    "5. find entropy of the system by going through all nodes\n",
    "\n"
   ]
  },
  {
   "cell_type": "code",
   "execution_count": 28,
   "metadata": {},
   "outputs": [],
   "source": [
    "def run_system_for_entropy_v2(sizes):\n",
    "    sz = len(sizes)\n",
    "    indices = list(range(sz))\n",
    "    entropies = []\n",
    "    H = get_entropy(sizes) # initial maximum entropy\n",
    "    k = 0\n",
    "    while k < sz-1:\n",
    "        i = random.randint(k, sz-1)\n",
    "        j = random.randint(k, sz-1)\n",
    "        a, b = indices[i], indices[j]\n",
    "        if a == b:\n",
    "            # same index does not help\n",
    "            continue\n",
    "        \n",
    "        sizes[a] = sizes[b] + sizes[a]\n",
    "        sizes[b] = 0 # b or indices[j] will never be used\n",
    "        indices[j] = indices[k] # replace indices[j] with indices[k] to keep it unique\n",
    "        k += 1\n",
    "\n",
    "        H = get_entropy(sizes)\n",
    "        entropies.append(H)\n",
    "#         print(H)\n",
    "        pass\n",
    "    return entropies"
   ]
  },
  {
   "cell_type": "code",
   "execution_count": 30,
   "metadata": {
    "scrolled": true
   },
   "outputs": [
    {
     "name": "stdout",
     "output_type": "stream",
     "text": [
      "4549\n",
      "4549\n"
     ]
    },
    {
     "data": {
      "text/plain": [
       "[<matplotlib.lines.Line2D at 0x7fa71e083f60>]"
      ]
     },
     "execution_count": 30,
     "metadata": {},
     "output_type": "execute_result"
    },
    {
     "data": {
      "image/png": "[encoded data removed]",
      "text/plain": [
       "<Figure size 432x288 with 1 Axes>"
      ]
     },
     "metadata": {
      "needs_background": "light"
     },
     "output_type": "display_data"
    }
   ],
   "source": [
    "sizes = [random.randint(1, 100) for i in range(100)]\n",
    "print(np.sum(sizes))\n",
    "out = run_system_for_entropy_v2(sizes)\n",
    "# print(out)\n",
    "print(np.sum(sizes))\n",
    "# print(sizes)\n",
    "plt.plot(np.arange(len(out)), out)"
   ]
  },
  {
   "cell_type": "code",
   "execution_count": 16,
   "metadata": {},
   "outputs": [],
   "source": [
    "def run_system_for_entropy_v3(sizes):\n",
    "    indices = list(range(len(sizes)))\n",
    "    entropies = []\n",
    "    sz = len(indices)\n",
    "    N = np.sum(sizes)\n",
    "    H_max = get_entropy(sizes) # initial maximum entropy\n",
    "    entropies.append(H_max)\n",
    "    print(H_max)\n",
    "    H = H_max\n",
    "    k = 0\n",
    "    while k < sz-1:\n",
    "        i = random.randint(k, sz-1)\n",
    "        j = random.randint(k, sz-1)\n",
    "        \n",
    "        if i == j:\n",
    "            continue\n",
    "            \n",
    "        a, b = indices[i], indices[j]\n",
    "        indices[j] = indices[k] # j-th element is replaced by k-th element\n",
    "        k += 1\n",
    "\n",
    "        # subtract for old clusters\n",
    "        H += np.log(sizes[a]/N)*sizes[a]/N \n",
    "        if a != b:\n",
    "            H += np.log(sizes[b]/N)*sizes[b]/N\n",
    "            pass\n",
    "        sizes[a] = sizes[b] + sizes[a]\n",
    "        # add for new cluster\n",
    "        H += (-np.log(sizes[a]/N)*sizes[a]/N)\n",
    "        sizes[b] = 0 # so that it is never used again\n",
    "        \n",
    "        entropies.append(H)\n",
    "#         print(H)\n",
    "        pass\n",
    "    return entropies"
   ]
  },
  {
   "cell_type": "code",
   "execution_count": 17,
   "metadata": {},
   "outputs": [
    {
     "name": "stdout",
     "output_type": "stream",
     "text": [
      "4.410084134264003\n",
      "[0, 0, 0, 0, 0, 0, 0, 0, 0, 0, 0, 0, 0, 0, 0, 0, 0, 0, 0, 0, 0, 0, 0, 0, 0, 0, 0, 0, 0, 0, 0, 0, 0, 0, 0, 0, 0, 0, 0, 0, 0, 0, 0, 0, 0, 0, 0, 0, 0, 0, 0, 0, 0, 0, 0, 0, 0, 0, 0, 0, 0, 0, 0, 0, 0, 0, 0, 0, 0, 0, 0, 0, 0, 0, 0, 0, 0, 0, 0, 0, 0, 0, 0, 0, 0, 0, 0, 0, 0, 0, 0, 0, 0, 0, 0, 4933, 0, 0, 0, 0]\n"
     ]
    },
    {
     "data": {
      "text/plain": [
       "[<matplotlib.lines.Line2D at 0x7fa71df0f780>]"
      ]
     },
     "execution_count": 17,
     "metadata": {},
     "output_type": "execute_result"
    },
    {
     "data": {
      "image/png": "[encoded data removed]",
      "text/plain": [
       "<Figure size 432x288 with 1 Axes>"
      ]
     },
     "metadata": {
      "needs_background": "light"
     },
     "output_type": "display_data"
    }
   ],
   "source": [
    "sizes = [random.randint(1, 100) for i in range(100)]\n",
    "out = run_system_for_entropy_v3(sizes)\n",
    "# print(out)\n",
    "print(sizes)\n",
    "plt.plot(np.arange(len(out)), out)"
   ]
  },
  {
   "cell_type": "markdown",
   "metadata": {},
   "source": [
    "### Choose two element randomly from an array, use up one of them (not to be used again)\n",
    "\n",
    "Organise the array at each iteration in such a way that the used value never get repeated.\n",
    "\n",
    "Element with index greater or equals k is always unique and usable"
   ]
  },
  {
   "cell_type": "code",
   "execution_count": 77,
   "metadata": {},
   "outputs": [],
   "source": [
    "def choose_not_to_repeate_test(size):\n",
    "    indices = list(range(size))\n",
    "    k = 0\n",
    "    while k < size-1:\n",
    "        print(\"step \", k)\n",
    "        i = random.randint(k, size-1)\n",
    "        j = random.randint(k, size-1)\n",
    "        if i == j:\n",
    "            continue\n",
    "        print(\"selected : \", indices[i], \", \", indices[j])\n",
    "        print(\"used     : \", indices[j]) # j-th element is used\n",
    "        indices[j] = indices[k] # j-th element is replaced by k-th element\n",
    "        k += 1\n",
    "        print(\"full:   \", indices)\n",
    "        print(\"unique: \", indices[k:])\n",
    "#         print(H)\n",
    "        pass"
   ]
  },
  {
   "cell_type": "code",
   "execution_count": 78,
   "metadata": {},
   "outputs": [
    {
     "name": "stdout",
     "output_type": "stream",
     "text": [
      "step  0\n",
      "selected :  4 ,  7\n",
      "used     :  7\n",
      "full:    [0, 1, 2, 3, 4, 5, 6, 0, 8, 9]\n",
      "unique:  [1, 2, 3, 4, 5, 6, 0, 8, 9]\n",
      "step  1\n",
      "selected :  3 ,  1\n",
      "used     :  1\n",
      "full:    [0, 1, 2, 3, 4, 5, 6, 0, 8, 9]\n",
      "unique:  [2, 3, 4, 5, 6, 0, 8, 9]\n",
      "step  2\n",
      "selected :  3 ,  4\n",
      "used     :  4\n",
      "full:    [0, 1, 2, 3, 2, 5, 6, 0, 8, 9]\n",
      "unique:  [3, 2, 5, 6, 0, 8, 9]\n",
      "step  3\n",
      "step  3\n",
      "selected :  6 ,  2\n",
      "used     :  2\n",
      "full:    [0, 1, 2, 3, 3, 5, 6, 0, 8, 9]\n",
      "unique:  [3, 5, 6, 0, 8, 9]\n",
      "step  4\n",
      "selected :  5 ,  8\n",
      "used     :  8\n",
      "full:    [0, 1, 2, 3, 3, 5, 6, 0, 3, 9]\n",
      "unique:  [5, 6, 0, 3, 9]\n",
      "step  5\n",
      "selected :  6 ,  9\n",
      "used     :  9\n",
      "full:    [0, 1, 2, 3, 3, 5, 6, 0, 3, 5]\n",
      "unique:  [6, 0, 3, 5]\n",
      "step  6\n",
      "step  6\n",
      "step  6\n",
      "selected :  6 ,  3\n",
      "used     :  3\n",
      "full:    [0, 1, 2, 3, 3, 5, 6, 0, 6, 5]\n",
      "unique:  [0, 6, 5]\n",
      "step  7\n",
      "selected :  5 ,  0\n",
      "used     :  0\n",
      "full:    [0, 1, 2, 3, 3, 5, 6, 0, 6, 5]\n",
      "unique:  [6, 5]\n",
      "step  8\n",
      "selected :  6 ,  5\n",
      "used     :  5\n",
      "full:    [0, 1, 2, 3, 3, 5, 6, 0, 6, 6]\n",
      "unique:  [6]\n"
     ]
    }
   ],
   "source": [
    "choose_not_to_repeate_test(10)"
   ]
  },
  {
   "cell_type": "code",
   "execution_count": 162,
   "metadata": {},
   "outputs": [],
   "source": [
    "def choose_not_to_repeate(indices, k):\n",
    "    \"\"\"\n",
    "    last value is and element of indices array that will never be repeated again\n",
    "    \"\"\"\n",
    "    size = len(indices)\n",
    "    while k < size-1:\n",
    "#         print(\"step \", k)\n",
    "        i = random.randint(k, size-1)\n",
    "        j = random.randint(k, size-1)\n",
    "        if i == j:\n",
    "            continue\n",
    "            pass\n",
    "        a, b = indices[i], indices[j]\n",
    "#         print(\"selected : \", indices[i], \", \", indices[j])\n",
    "#         print(\"used     : \", indices[j]) # j-th element is used\n",
    "        indices[j] = indices[k] # j-th element is replaced by k-th element\n",
    "        k += 1\n",
    "#         print(\"full:   \", indices)\n",
    "#         print(\"unique: \", indices[k:])\n",
    "#         print(H)\n",
    "        return indices, a, b\n",
    "    print(\"end of indices\")\n",
    "    return indices,-1,-1"
   ]
  },
  {
   "cell_type": "code",
   "execution_count": 163,
   "metadata": {},
   "outputs": [],
   "source": [
    "indices = list(range(10))\n",
    "k = 0"
   ]
  },
  {
   "cell_type": "code",
   "execution_count": 173,
   "metadata": {},
   "outputs": [
    {
     "name": "stdout",
     "output_type": "stream",
     "text": [
      "end of indices\n",
      "-1 , -1\n"
     ]
    }
   ],
   "source": [
    "indices, a, b = choose_not_to_repeate(indices, k)\n",
    "k += 1\n",
    "print(a, \",\", b)"
   ]
  },
  {
   "cell_type": "code",
   "execution_count": 175,
   "metadata": {},
   "outputs": [
    {
     "name": "stdout",
     "output_type": "stream",
     "text": [
      "Demonstration of non repeating values\n",
      "1\n",
      "8\n",
      "5\n",
      "2\n",
      "4\n",
      "0\n",
      "3\n",
      "9\n",
      "7\n",
      "end of indices\n",
      "-1\n"
     ]
    }
   ],
   "source": [
    "print(\"Demonstration of non repeating values\")\n",
    "indices = list(range(10))\n",
    "for k in range(10):\n",
    "    indices, a, b = choose_not_to_repeate(indices, k)\n",
    "    print(b)\n",
    "    pass"
   ]
  },
  {
   "cell_type": "code",
   "execution_count": null,
   "metadata": {},
   "outputs": [],
   "source": []
  }
 ],
 "metadata": {
  "kernelspec": {
   "display_name": "Python 3",
   "language": "python",
   "name": "python3"
  },
  "language_info": {
   "codemirror_mode": {
    "name": "ipython",
    "version": 3
   },
   "file_extension": ".py",
   "mimetype": "text/x-python",
   "name": "python",
   "nbconvert_exporter": "python",
   "pygments_lexer": "ipython3",
   "version": "3.7.3"
  }
 },
 "nbformat": 4,
 "nbformat_minor": 2
}
