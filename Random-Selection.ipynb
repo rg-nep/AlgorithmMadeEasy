{
 "cells": [
  {
   "cell_type": "markdown",
   "metadata": {},
   "source": [
    "# Random Selection"
   ]
  },
  {
   "cell_type": "code",
   "execution_count": 1,
   "metadata": {},
   "outputs": [],
   "source": [
    "import numpy as np"
   ]
  },
  {
   "cell_type": "markdown",
   "metadata": {},
   "source": [
    "### 1. Suppose you have a list of numbers and you are asked to select them randomly"
   ]
  },
  {
   "cell_type": "markdown",
   "metadata": {},
   "source": [
    "#### method 1\n",
    "Randomize the list and then select sequentially\n",
    "\n",
    "##### comments"
   ]
  },
  {
   "cell_type": "code",
   "execution_count": null,
   "metadata": {},
   "outputs": [],
   "source": []
  },
  {
   "cell_type": "markdown",
   "metadata": {},
   "source": [
    "#### method 2\n",
    "Using an Intermediate list of indices. Randomize the intermediate list but not the original list.\n",
    "##### comments\n",
    "using this method keeps the original list unchanged, which comes in handay. Also the efficiency is not reduced."
   ]
  },
  {
   "cell_type": "code",
   "execution_count": 7,
   "metadata": {},
   "outputs": [
    {
     "name": "stdout",
     "output_type": "stream",
     "text": [
      "[0 1 2 3 4 5 6 7 8 9]\n",
      "printing using numpy index facility\n",
      "[8 2 7 4 0 5 3 6 9 1]\n"
     ]
    }
   ],
   "source": [
    "elements = np.arange(0, 10, 1)\n",
    "intermediate = np.arange(0, 10, 1)\n",
    "np.random.shuffle(intermediate)\n",
    "print(elements)\n",
    "# print(\"plane printing\")\n",
    "# for i in intermediate:\n",
    "#     print(elements[i])\n",
    "#     pass\n",
    "\n",
    "print(\"printing using numpy index facility\")\n",
    "print(elements[intermediate])"
   ]
  },
  {
   "cell_type": "markdown",
   "metadata": {},
   "source": [
    "### 2. \n",
    "Select randomly from a list of elements. Repetition is allowed as long as the selected element is not activated. There is a function that tells if the element should be activated (here it does so randomly). Activated element have nagative value and same magnitude.\n"
   ]
  },
  {
   "cell_type": "markdown",
   "metadata": {},
   "source": [
    "#### method\n",
    "\n",
    "We swap the used value with the unused value of the intermediate list. Swapping is not necessary for algorithm, only assining unused value to used value in the intermediate list is enough. But swapping results in non repeating value in the intermediate list, so that it can be used to display the actual order by which the list was selected.\n",
    "\n",
    "##### comment\n",
    "I used this approach in RSBD or Random Sequential Ballistic Deposition for L=1,2 interaction in my MS thesis."
   ]
  },
  {
   "cell_type": "code",
   "execution_count": 35,
   "metadata": {},
   "outputs": [],
   "source": [
    "N = 10\n",
    "elements = np.arange(1, N+1, 1)\n",
    "intermediate = np.arange(0, N, 1)\n"
   ]
  },
  {
   "cell_type": "code",
   "execution_count": 40,
   "metadata": {},
   "outputs": [],
   "source": [
    "def activate_element(elements, i, chan=2):\n",
    "    \"\"\"\n",
    "    elements : list of candidates\n",
    "    i : index of elements which is a selected candidate for activation\n",
    "    chan : chance of being activated is 1/chan\n",
    "    \"\"\"\n",
    "    r = np.random.randint(0,chan,1)\n",
    "    if r == 1:\n",
    "        # activate\n",
    "        elements[i] *= -1\n",
    "        return True\n",
    "        pass\n",
    "    return False"
   ]
  },
  {
   "cell_type": "code",
   "execution_count": null,
   "metadata": {},
   "outputs": [],
   "source": []
  },
  {
   "cell_type": "code",
   "execution_count": 41,
   "metadata": {},
   "outputs": [
    {
     "name": "stdout",
     "output_type": "stream",
     "text": [
      "False,True,False,True,True,True,False,True,False,True,False,True,False,True,True,True,"
     ]
    }
   ],
   "source": [
    "forbidden_start_index = 0\n",
    "while forbidden_start_index < N:\n",
    "#     print(forbidden_start_index, end=',')\n",
    "    a = np.random.randint(forbidden_start_index, N, 1)\n",
    "    b = intermediate[a]\n",
    "    activated = activate_element(elements, b, 2)\n",
    "    print(activated, end=',')\n",
    "    if activated:\n",
    "        # swapping with used value so that it is not used again\n",
    "        intermediate[forbidden_start_index], intermediate[a] = intermediate[a], intermediate[forbidden_start_index]\n",
    "        forbidden_start_index += 1\n",
    "    "
   ]
  },
  {
   "cell_type": "code",
   "execution_count": 42,
   "metadata": {},
   "outputs": [
    {
     "data": {
      "text/plain": [
       "array([ 1,  2,  3,  4,  5,  6,  7,  8,  9, 10])"
      ]
     },
     "execution_count": 42,
     "metadata": {},
     "output_type": "execute_result"
    }
   ],
   "source": [
    "elements"
   ]
  },
  {
   "cell_type": "code",
   "execution_count": 43,
   "metadata": {},
   "outputs": [
    {
     "data": {
      "text/plain": [
       "array([ 3,  8,  4,  7,  9, 10,  5,  2,  1,  6])"
      ]
     },
     "execution_count": 43,
     "metadata": {},
     "output_type": "execute_result"
    }
   ],
   "source": [
    "elements[intermediate]"
   ]
  },
  {
   "cell_type": "code",
   "execution_count": null,
   "metadata": {},
   "outputs": [],
   "source": []
  }
 ],
 "metadata": {
  "kernelspec": {
   "display_name": "Python 3",
   "language": "python",
   "name": "python3"
  },
  "language_info": {
   "codemirror_mode": {
    "name": "ipython",
    "version": 3
   },
   "file_extension": ".py",
   "mimetype": "text/x-python",
   "name": "python",
   "nbconvert_exporter": "python",
   "pygments_lexer": "ipython3",
   "version": "3.7.2"
  }
 },
 "nbformat": 4,
 "nbformat_minor": 2
}
